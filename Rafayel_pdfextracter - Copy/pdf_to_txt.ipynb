{
 "cells": [
  {
   "cell_type": "code",
   "execution_count": 14,
   "metadata": {},
   "outputs": [],
   "source": [
    "from tika import parser\n",
    "\n",
    "def extract_pdf_text(file_path):\n",
    "    text = parser.from_file(file_path)['content']\n",
    "    return text\n",
    "\n",
    "def remove_unnecessary(text):\n",
    "    text =  ''.join([x for x in text if not x.isdigit()])\n",
    "    text = text.replace('\\n','')\n",
    "    text = text.split(':')\n",
    "    return text\n",
    "\n",
    "def file_write(text_ls):\n",
    "    with open('test.txt', 'w',encoding='utf-8') as f:\n",
    "        for item in range(len(text_ls)):\n",
    "            content = text_ls[item]\n",
    "            f.write(content+'\\n')"
   ]
  },
  {
   "cell_type": "code",
   "execution_count": null,
   "metadata": {},
   "outputs": [],
   "source": []
  }
 ],
 "metadata": {
  "kernelspec": {
   "display_name": "Python 3",
   "language": "python",
   "name": "python3"
  },
  "language_info": {
   "codemirror_mode": {
    "name": "ipython",
    "version": 3
   },
   "file_extension": ".py",
   "mimetype": "text/x-python",
   "name": "python",
   "nbconvert_exporter": "python",
   "pygments_lexer": "ipython3",
   "version": "3.7.4"
  }
 },
 "nbformat": 4,
 "nbformat_minor": 2
}
